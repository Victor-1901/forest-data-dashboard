{
 "cells": [
  {
   "cell_type": "code",
   "execution_count": 1,
   "id": "bfa3b32c-248d-4a9a-90b7-8e791b763f05",
   "metadata": {
    "scrolled": true
   },
   "outputs": [
    {
     "name": "stdout",
     "output_type": "stream",
     "text": [
      "Le chemin absolu du fichier CSS est : C:\\Users\\victo\\assets\\assets\\fichier.css\n"
     ]
    }
   ],
   "source": [
    "import os\n",
    "\n",
    "# Spécifie le chemin relatif de ton fichier CSS\n",
    "css_file_path = \"assets/fichier.css\"\n",
    "\n",
    "# Utilise os.path.abspath() pour obtenir le chemin absolu\n",
    "absolute_path = os.path.abspath(css_file_path)\n",
    "\n",
    "print(f\"Le chemin absolu du fichier CSS est : {absolute_path}\")\n"
   ]
  },
  {
   "cell_type": "code",
   "execution_count": 3,
   "id": "00167310-5400-4738-ad8e-7d75893e1974",
   "metadata": {},
   "outputs": [
    {
     "ename": "NameError",
     "evalue": "name 'st' is not defined",
     "output_type": "error",
     "traceback": [
      "\u001b[1;31m---------------------------------------------------------------------------\u001b[0m",
      "\u001b[1;31mFileNotFoundError\u001b[0m                         Traceback (most recent call last)",
      "Cell \u001b[1;32mIn[3], line 3\u001b[0m, in \u001b[0;36mload_css\u001b[1;34m(css_file_path)\u001b[0m\n\u001b[0;32m      2\u001b[0m \u001b[38;5;28;01mtry\u001b[39;00m:\n\u001b[1;32m----> 3\u001b[0m     \u001b[38;5;28;01mwith\u001b[39;00m \u001b[38;5;28mopen\u001b[39m(css_file_path) \u001b[38;5;28;01mas\u001b[39;00m css_file:\n\u001b[0;32m      4\u001b[0m         css_content \u001b[38;5;241m=\u001b[39m css_file\u001b[38;5;241m.\u001b[39mread()\n",
      "File \u001b[1;32m~\\anaconda3\\Lib\\site-packages\\IPython\\core\\interactiveshell.py:286\u001b[0m, in \u001b[0;36m_modified_open\u001b[1;34m(file, *args, **kwargs)\u001b[0m\n\u001b[0;32m    280\u001b[0m     \u001b[38;5;28;01mraise\u001b[39;00m \u001b[38;5;167;01mValueError\u001b[39;00m(\n\u001b[0;32m    281\u001b[0m         \u001b[38;5;124mf\u001b[39m\u001b[38;5;124m\"\u001b[39m\u001b[38;5;124mIPython won\u001b[39m\u001b[38;5;124m'\u001b[39m\u001b[38;5;124mt let you open fd=\u001b[39m\u001b[38;5;132;01m{\u001b[39;00mfile\u001b[38;5;132;01m}\u001b[39;00m\u001b[38;5;124m by default \u001b[39m\u001b[38;5;124m\"\u001b[39m\n\u001b[0;32m    282\u001b[0m         \u001b[38;5;124m\"\u001b[39m\u001b[38;5;124mas it is likely to crash IPython. If you know what you are doing, \u001b[39m\u001b[38;5;124m\"\u001b[39m\n\u001b[0;32m    283\u001b[0m         \u001b[38;5;124m\"\u001b[39m\u001b[38;5;124myou can use builtins\u001b[39m\u001b[38;5;124m'\u001b[39m\u001b[38;5;124m open.\u001b[39m\u001b[38;5;124m\"\u001b[39m\n\u001b[0;32m    284\u001b[0m     )\n\u001b[1;32m--> 286\u001b[0m \u001b[38;5;28;01mreturn\u001b[39;00m io_open(file, \u001b[38;5;241m*\u001b[39margs, \u001b[38;5;241m*\u001b[39m\u001b[38;5;241m*\u001b[39mkwargs)\n",
      "\u001b[1;31mFileNotFoundError\u001b[0m: [Errno 2] No such file or directory: 'assets/fichier.css'",
      "\nDuring handling of the above exception, another exception occurred:\n",
      "\u001b[1;31mNameError\u001b[0m                                 Traceback (most recent call last)",
      "Cell \u001b[1;32mIn[3], line 12\u001b[0m\n\u001b[0;32m      9\u001b[0m     \u001b[38;5;28;01mexcept\u001b[39;00m \u001b[38;5;167;01mException\u001b[39;00m \u001b[38;5;28;01mas\u001b[39;00m e:\n\u001b[0;32m     10\u001b[0m         st\u001b[38;5;241m.\u001b[39merror(\u001b[38;5;124mf\u001b[39m\u001b[38;5;124m\"\u001b[39m\u001b[38;5;124mErreur lors du chargement du CSS : \u001b[39m\u001b[38;5;132;01m{\u001b[39;00m\u001b[38;5;28mstr\u001b[39m(e)\u001b[38;5;132;01m}\u001b[39;00m\u001b[38;5;124m\"\u001b[39m)\n\u001b[1;32m---> 12\u001b[0m load_css(\u001b[38;5;124m\"\u001b[39m\u001b[38;5;124massets/fichier.css\u001b[39m\u001b[38;5;124m\"\u001b[39m)\n",
      "Cell \u001b[1;32mIn[3], line 8\u001b[0m, in \u001b[0;36mload_css\u001b[1;34m(css_file_path)\u001b[0m\n\u001b[0;32m      6\u001b[0m         st\u001b[38;5;241m.\u001b[39mmarkdown(\u001b[38;5;124mf\u001b[39m\u001b[38;5;124m\"\u001b[39m\u001b[38;5;124m<style>\u001b[39m\u001b[38;5;132;01m{\u001b[39;00mcss_content\u001b[38;5;132;01m}\u001b[39;00m\u001b[38;5;124m</style>\u001b[39m\u001b[38;5;124m\"\u001b[39m, unsafe_allow_html\u001b[38;5;241m=\u001b[39m\u001b[38;5;28;01mTrue\u001b[39;00m)\n\u001b[0;32m      7\u001b[0m \u001b[38;5;28;01mexcept\u001b[39;00m \u001b[38;5;167;01mFileNotFoundError\u001b[39;00m:\n\u001b[1;32m----> 8\u001b[0m     st\u001b[38;5;241m.\u001b[39merror(\u001b[38;5;124mf\u001b[39m\u001b[38;5;124m\"\u001b[39m\u001b[38;5;124mLe fichier CSS est introuvable à l\u001b[39m\u001b[38;5;124m'\u001b[39m\u001b[38;5;124memplacement \u001b[39m\u001b[38;5;132;01m{\u001b[39;00mcss_file_path\u001b[38;5;132;01m}\u001b[39;00m\u001b[38;5;124m.\u001b[39m\u001b[38;5;124m\"\u001b[39m)\n\u001b[0;32m      9\u001b[0m \u001b[38;5;28;01mexcept\u001b[39;00m \u001b[38;5;167;01mException\u001b[39;00m \u001b[38;5;28;01mas\u001b[39;00m e:\n\u001b[0;32m     10\u001b[0m     st\u001b[38;5;241m.\u001b[39merror(\u001b[38;5;124mf\u001b[39m\u001b[38;5;124m\"\u001b[39m\u001b[38;5;124mErreur lors du chargement du CSS : \u001b[39m\u001b[38;5;132;01m{\u001b[39;00m\u001b[38;5;28mstr\u001b[39m(e)\u001b[38;5;132;01m}\u001b[39;00m\u001b[38;5;124m\"\u001b[39m)\n",
      "\u001b[1;31mNameError\u001b[0m: name 'st' is not defined"
     ]
    }
   ],
   "source": [
    "def load_css(c\n",
    "ss_file_path):\n",
    "    try:\n",
    "        with open(css_file_path) as css_file:\n",
    "            css_content = css_file.read()\n",
    "            print(css_content)  # Affiche le contenu du fichier CSS dans le terminal pour vérification\n",
    "            st.markdown(f\"<style>{css_content}</style>\", unsafe_allow_html=True)\n",
    "    except FileNotFoundError:\n",
    "        st.error(f\"Le fichier CSS est introuvable à l'emplacement {css_file_path}.\")\n",
    "    except Exception as e:\n",
    "        st.error(f\"Erreur lors du chargement du CSS : {str(e)}\")\n",
    "\n",
    "load_css(\"assets/fichier.css\")\n"
   ]
  },
  {
   "cell_type": "code",
   "execution_count": 5,
   "id": "f927b2f4-bd61-47c8-8a87-df1790860fd1",
   "metadata": {},
   "outputs": [
    {
     "name": "stdout",
     "output_type": "stream",
     "text": [
      "Le fichier CSS est introuvable à l'emplacement C:/Users/victo/assets/assets/fichier.css.\n"
     ]
    }
   ],
   "source": [
    "def load_css(css_file_path):\n",
    "    try:\n",
    "        with open(css_file_path, 'r') as css_file:\n",
    "            css_content = css_file.read()\n",
    "            print(\"Contenu du fichier CSS chargé avec succès :\")\n",
    "            print(css_content)  # Affiche le contenu du fichier CSS dans le terminal pour vérification\n",
    "    except FileNotFoundError:\n",
    "        print(f\"Le fichier CSS est introuvable à l'emplacement {css_file_path}.\")\n",
    "    except Exception as e:\n",
    "        print(f\"Erreur lors du chargement du CSS : {str(e)}\")\n",
    "\n",
    "# Remplace le chemin par le chemin absolu de ton fichier CSS\n",
    "load_css(\"C:/Users/victo/assets/assets/fichier.css\")\n"
   ]
  },
  {
   "cell_type": "code",
   "execution_count": 8,
   "id": "50444b1d-ebab-4bd0-8a58-87f38d79eda7",
   "metadata": {},
   "outputs": [
    {
     "name": "stdout",
     "output_type": "stream",
     "text": [
      "Le fichier CSS est introuvable à l'emplacement C:/Users/victo/assets/assets/fichier.css.\n"
     ]
    }
   ],
   "source": [
    "def load_css(css_file_path):\n",
    "    try:\n",
    "        with open(css_file_path, 'r') as css_file:\n",
    "            css_content = css_file.read()\n",
    "            print(\"Contenu du fichier CSS chargé avec succès :\")\n",
    "            print(css_content)  # Affiche le contenu du fichier CSS dans le terminal pour vérification\n",
    "    except FileNotFoundError:\n",
    "        print(f\"Le fichier CSS est introuvable à l'emplacement {css_file_path}.\")\n",
    "    except Exception as e:\n",
    "        print(f\"Erreur lors du chargement du CSS : {str(e)}\")\n",
    "\n",
    "# Remplace le chemin par le chemin absolu de ton fichier CSS\n",
    "load_css(r\"C:/Users/victo/assets/assets/fichier.css\")\n"
   ]
  },
  {
   "cell_type": "code",
   "execution_count": null,
   "id": "ffeb929c-6c9b-48b4-8a3b-37f95bf17ce5",
   "metadata": {},
   "outputs": [],
   "source": []
  },
  {
   "cell_type": "code",
   "execution_count": 1,
   "id": "7cc7ca93-e7fa-4624-8d1f-35f5925c9df9",
   "metadata": {
    "scrolled": true
   },
   "outputs": [
    {
     "name": "stdout",
     "output_type": "stream",
     "text": [
      "Le chemin absolu du fichier CSS est : C:\\Users\\victo\\assets\\assets\\fichier.css\n"
     ]
    }
   ],
   "source": [
    "import os\n",
    "\n",
    "# Spécifie le chemin relatif de ton fichier CSS\n",
    "css_file_path = \"assets/fichier.css\"\n",
    "\n",
    "# Utilise os.path.abspath() pour obtenir le chemin absolu\n",
    "absolute_path = os.path.abspath(css_file_path)\n",
    "\n",
    "print(f\"Le chemin absolu du fichier CSS est : {absolute_path}\")\n"
   ]
  },
  {
   "cell_type": "code",
   "execution_count": null,
   "id": "db010d37-4b2b-42e0-8cd8-caf89aaafb10",
   "metadata": {},
   "outputs": [],
   "source": []
  },
  {
   "cell_type": "code",
   "execution_count": 13,
   "id": "4275c1a9-a2ad-41bd-964a-30d34e638cb8",
   "metadata": {
    "scrolled": true
   },
   "outputs": [
    {
     "name": "stdout",
     "output_type": "stream",
     "text": [
      "Le chemin absolu du fichier CSS est : C:\\Users\\victo\\assets\\assets\\fichier.css\n"
     ]
    }
   ],
   "source": [
    "import os\n",
    "\n",
    "# Spécifie le chemin relatif de ton fichier CSS\n",
    "css_file_path = \"assets/fichier.css\"\n",
    "\n",
    "# Utilise os.path.abspath() pour obtenir le chemin absolu\n",
    "absolute_path = os.path.abspath(css_file_path)\n",
    "\n",
    "print(f\"Le chemin absolu du fichier CSS est : {absolute_path}\")\n"
   ]
  },
  {
   "cell_type": "code",
   "execution_count": null,
   "id": "c82ecf43-f728-4612-99a4-d4582f9a5610",
   "metadata": {},
   "outputs": [],
   "source": []
  }
 ],
 "metadata": {
  "kernelspec": {
   "display_name": "Python 3 (ipykernel)",
   "language": "python",
   "name": "python3"
  },
  "language_info": {
   "codemirror_mode": {
    "name": "ipython",
    "version": 3
   },
   "file_extension": ".py",
   "mimetype": "text/x-python",
   "name": "python",
   "nbconvert_exporter": "python",
   "pygments_lexer": "ipython3",
   "version": "3.11.5"
  }
 },
 "nbformat": 4,
 "nbformat_minor": 5
}
